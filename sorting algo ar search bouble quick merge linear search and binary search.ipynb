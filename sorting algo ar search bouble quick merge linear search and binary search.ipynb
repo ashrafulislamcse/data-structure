{
 "cells": [
  {
   "cell_type": "markdown",
   "metadata": {},
   "source": [
    "# linear Search"
   ]
  },
  {
   "cell_type": "code",
   "execution_count": 2,
   "metadata": {},
   "outputs": [],
   "source": [
    "def linear(li,n):\n",
    "    for i in li:\n",
    "        if i==n:\n",
    "            print('found',i)\n",
    "            break\n",
    "    else:\n",
    "        print('not found')"
   ]
  },
  {
   "cell_type": "code",
   "execution_count": 3,
   "metadata": {},
   "outputs": [
    {
     "name": "stdout",
     "output_type": "stream",
     "text": [
      "not found\n"
     ]
    }
   ],
   "source": [
    "m=[1,2,3,4,5]\n",
    "linear(m,7)"
   ]
  },
  {
   "cell_type": "markdown",
   "metadata": {},
   "source": [
    "# binary search\n"
   ]
  },
  {
   "cell_type": "code",
   "execution_count": 4,
   "metadata": {},
   "outputs": [],
   "source": [
    "def binary_search(li,n):\n",
    "    l=0\n",
    "    r=len(li)-1\n",
    "    while(l<=r):\n",
    "        mid=(l+r)//2\n",
    "        if(li[mid]==n):\n",
    "            return li[mid]\n",
    "        \n",
    "        if(li[mid]<n):\n",
    "            \n",
    "            l=mid+1\n",
    "        else:\n",
    "            r=mid-1\n",
    "    "
   ]
  },
  {
   "cell_type": "code",
   "execution_count": 5,
   "metadata": {},
   "outputs": [
    {
     "data": {
      "text/plain": [
       "7"
      ]
     },
     "execution_count": 5,
     "metadata": {},
     "output_type": "execute_result"
    }
   ],
   "source": [
    "l=[1,2,3,4,5,6,7]\n",
    "binary_search(l,7)"
   ]
  },
  {
   "cell_type": "markdown",
   "metadata": {},
   "source": [
    "# selection sort"
   ]
  },
  {
   "cell_type": "code",
   "execution_count": 13,
   "metadata": {},
   "outputs": [
    {
     "name": "stdout",
     "output_type": "stream",
     "text": [
      "2\n",
      "3\n",
      "4\n",
      "5\n",
      "[0, 67, 3, 2, 1, 5]\n",
      "2\n",
      "3\n",
      "4\n",
      "[0, 1, 3, 2, 67, 5]\n",
      "3\n",
      "[0, 1, 2, 3, 67, 5]\n",
      "[0, 1, 2, 3, 67, 5]\n",
      "5\n",
      "[0, 1, 2, 3, 5, 67]\n",
      "[0, 1, 2, 3, 5, 67]\n"
     ]
    }
   ],
   "source": [
    "def selection_sort(num):\n",
    "    for i in range(len(num)):\n",
    "        minpos=i\n",
    "        for j in range(i+1,len(num)):\n",
    "            if num[j]<num[minpos]:\n",
    "                minpos=j\n",
    "        temp=num[i]\n",
    "        num[i]=num[minpos]\n",
    "        num[minpos]=temp\n",
    "        print(num)\n",
    "num=[5,67,3,2,1,0]        \n",
    "selection_sort(num)       "
   ]
  },
  {
   "cell_type": "markdown",
   "metadata": {},
   "source": [
    "# bouble"
   ]
  },
  {
   "cell_type": "code",
   "execution_count": 7,
   "metadata": {},
   "outputs": [
    {
     "name": "stdout",
     "output_type": "stream",
     "text": [
      "[5, 6, 1, 7]\n",
      "[5, 1, 6, 7]\n",
      "[1, 5, 6, 7]\n"
     ]
    }
   ],
   "source": [
    "def bouble(num):\n",
    "    for i in range(len(num)-1,0,-1):\n",
    "        for j in range(i):\n",
    "            if num[j]>num[j+1]:\n",
    "                temp=num[j]\n",
    "                num[j]=num[j+1]\n",
    "                num[j+1]=temp\n",
    "        print(num)       \n",
    "num=[5,6,7,1]\n",
    "bouble(num)                "
   ]
  },
  {
   "cell_type": "code",
   "execution_count": 8,
   "metadata": {},
   "outputs": [
    {
     "name": "stdout",
     "output_type": "stream",
     "text": [
      "[5, 6, 1, 7]\n",
      "[5, 1, 6, 7]\n",
      "[1, 5, 6, 7]\n"
     ]
    }
   ],
   "source": [
    "def bouble(num):\n",
    "    for i in range(len(num)-1):\n",
    "        for j in range(len(num)-1-i):\n",
    "            if num[j]>num[j+1]:\n",
    "                temp=num[j]\n",
    "                num[j]=num[j+1]\n",
    "                num[j+1]=temp\n",
    "        print(num)       \n",
    "num=[5,6,7,1]\n",
    "bouble(num)  "
   ]
  },
  {
   "cell_type": "code",
   "execution_count": 9,
   "metadata": {},
   "outputs": [],
   "source": [
    "#modified bouble short\n",
    "def bouble(num):\n",
    "    for i in range(len(num)-1):\n",
    "        flag=0\n",
    "        for j in range(len(num)-1-i):\n",
    "            if num[j]>num[j+1]:\n",
    "                flag=1\n",
    "                temp=num[j]\n",
    "                num[j]=num[j+1]\n",
    "                num[j+1]=temp\n",
    "        \n",
    "        if (flag==0):\n",
    "            return num\n",
    "        print(num)"
   ]
  },
  {
   "cell_type": "markdown",
   "metadata": {},
   "source": [
    "# quick sort"
   ]
  },
  {
   "cell_type": "code",
   "execution_count": 1,
   "metadata": {},
   "outputs": [
    {
     "data": {
      "text/plain": [
       "[2, 4, 45, 67, 234, 343, 656]"
      ]
     },
     "execution_count": 1,
     "metadata": {},
     "output_type": "execute_result"
    }
   ],
   "source": [
    "def quick(sentence):\n",
    "    lenth=len(sentence)\n",
    "    if lenth<=1:\n",
    "        return sentence\n",
    "    else :\n",
    "        pivot=sentence.pop()\n",
    "    \n",
    "    items_grater=[]\n",
    "    items_lower=[]\n",
    "    \n",
    "    for item in sentence:\n",
    "        if item>pivot:\n",
    "            items_grater.append(item)\n",
    "        else:\n",
    "            items_lower.append(item)\n",
    "            \n",
    "            \n",
    "    return quick(items_lower)+[pivot]+quick(items_grater)\n",
    "\n",
    "\n",
    "\n",
    "sen=[2,4,343,656,234,45,67]\n",
    "quick(sen)\n",
    "    \n",
    "    \n",
    "    "
   ]
  },
  {
   "cell_type": "markdown",
   "metadata": {},
   "source": [
    "# merge"
   ]
  },
  {
   "cell_type": "code",
   "execution_count": 6,
   "metadata": {},
   "outputs": [
    {
     "name": "stdout",
     "output_type": "stream",
     "text": [
      "[3, 4, 4, 12, 23, 54, 234, 5234, 5463]\n"
     ]
    }
   ],
   "source": [
    "def merge(lis):\n",
    "    if len(lis)>1:\n",
    "        mid=len(lis)//2\n",
    "        left=lis[:mid]\n",
    "        right=lis[mid:]\n",
    "        merge(left)\n",
    "        merge(right)\n",
    "        \n",
    "        i=0\n",
    "        j=0\n",
    "        k=0\n",
    "        \n",
    "        while i<len(left) and j<len(right):\n",
    "            \n",
    "            if left[i]<right[j]:\n",
    "                lis[k]=left[i]\n",
    "                i+=1\n",
    "                k+=1\n",
    "            else:\n",
    "                lis[k]=right[j]\n",
    "                j+=1\n",
    "                k+=1\n",
    "        \n",
    "        \n",
    "        while i<len(left):\n",
    "            \n",
    "                lis[k]=left[i]\n",
    "                i+=1\n",
    "                k+=1\n",
    "                \n",
    "        while j<len(right):\n",
    "            \n",
    "                lis[k]=right[j]\n",
    "                j+=1\n",
    "                k+=1\n",
    "\n",
    "\n",
    "\n",
    "\n",
    "\n",
    "\n",
    "\n",
    "\n",
    "\n",
    "lis=[3,4,12,4,5234,23,5463,234,54]\n",
    "merge(lis)\n",
    "print(lis)"
   ]
  },
  {
   "cell_type": "code",
   "execution_count": null,
   "metadata": {},
   "outputs": [],
   "source": []
  },
  {
   "cell_type": "code",
   "execution_count": null,
   "metadata": {},
   "outputs": [],
   "source": []
  },
  {
   "cell_type": "code",
   "execution_count": null,
   "metadata": {},
   "outputs": [],
   "source": []
  }
 ],
 "metadata": {
  "kernelspec": {
   "display_name": "Python 3",
   "language": "python",
   "name": "python3"
  },
  "language_info": {
   "codemirror_mode": {
    "name": "ipython",
    "version": 3
   },
   "file_extension": ".py",
   "mimetype": "text/x-python",
   "name": "python",
   "nbconvert_exporter": "python",
   "pygments_lexer": "ipython3",
   "version": "3.6.10"
  }
 },
 "nbformat": 4,
 "nbformat_minor": 4
}
