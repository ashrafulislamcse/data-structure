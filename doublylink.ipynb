{
 "cells": [
  {
   "cell_type": "code",
   "execution_count": 2,
   "metadata": {},
   "outputs": [
    {
     "name": "stdout",
     "output_type": "stream",
     "text": [
      "A b c "
     ]
    }
   ],
   "source": [
    "class Node:\n",
    "    def __init__(self,data):\n",
    "        self.data=data\n",
    "        self.next=None\n",
    "        self.prev=None\n",
    "class doubly:\n",
    "    def __init__(self):\n",
    "        self.head=None\n",
    "    def append(self,data):\n",
    "        if self.head is None:\n",
    "            new_node=Node(data)\n",
    "            new_node.prev=None\n",
    "            self.head=new_node\n",
    "        else:\n",
    "            new_node=Node(data)\n",
    "            cur=self.head\n",
    "            while cur.next:\n",
    "                cur=cur.next\n",
    "            cur.next=new_node\n",
    "            new_node.prev=cur\n",
    "            new_node.next=None\n",
    "            \n",
    "    def print_(self):\n",
    "        cur=self.head\n",
    "        while cur:\n",
    "            print(cur.data,end=' ')\n",
    "            cur=cur.next\n",
    "            \n",
    "L=doubly()\n",
    "L.append('A')\n",
    "L.append('b')\n",
    "L.append('c')\n",
    "L.print_()"
   ]
  },
  {
   "cell_type": "code",
   "execution_count": 5,
   "metadata": {},
   "outputs": [
    {
     "name": "stdout",
     "output_type": "stream",
     "text": [
      "A b c "
     ]
    }
   ],
   "source": [
    "class Node:\n",
    "    def __init__(self,data):\n",
    "        self.data=data\n",
    "        self.prev=None\n",
    "        self.next=None\n",
    "class ddddd:\n",
    "    def __init__(self):\n",
    "        self.head=None\n",
    "    def append(self,data):\n",
    "        if self.head is None:\n",
    "            new_node=Node(data)\n",
    "            self.head=new_node\n",
    "            new_node.next=None\n",
    "        else:\n",
    "            new_node=Node(data)\n",
    "            cur=self.head\n",
    "            while cur.next:\n",
    "                cur=cur.next\n",
    "            cur.next=new_node\n",
    "            new_node.prev=cur\n",
    "            new_node.next=None\n",
    "            \n",
    "            \n",
    "    \n",
    "    def print_(self):\n",
    "        \n",
    "         \n",
    "        cur=self.head\n",
    "        while cur:\n",
    "            print(cur.data,end=' ')\n",
    "            cur=cur.next\n",
    "            \n",
    "L=ddddd()\n",
    "L.append('A')\n",
    "L.append('b')\n",
    "L.append('c')\n",
    "L.print_()    \n",
    "    \n",
    "    \n",
    "    \n",
    "    \n",
    "    \n",
    "    \n",
    "    \n",
    "    \n",
    "    \n",
    "    \n",
    "    \n",
    "    \n",
    "    \n",
    "    \n",
    "    \n",
    "    \n",
    "    \n",
    "    \n",
    "    \n",
    "    \n",
    "    \n",
    "    \n",
    "    \n",
    "    \n",
    "    \n",
    "    \n",
    "    \n",
    "    \n",
    "    \n",
    "    \n",
    "    "
   ]
  },
  {
   "cell_type": "code",
   "execution_count": 6,
   "metadata": {},
   "outputs": [
    {
     "name": "stdout",
     "output_type": "stream",
     "text": [
      "A b c "
     ]
    }
   ],
   "source": [
    "class Node:\n",
    "    def __init__(self,data):\n",
    "        self.data=data\n",
    "        self.next=None\n",
    "        self.prev=None\n",
    "class dou:\n",
    "    def __init__(self):\n",
    "        self.head=None\n",
    "    def append(self,data):\n",
    "        if self.head is None:\n",
    "            new_node=Node(data)\n",
    "            self.head=new_node\n",
    "            new_node.next=None\n",
    "            \n",
    "        else:\n",
    "            new_node=Node(data)\n",
    "            cur=self.head\n",
    "            while cur.next:\n",
    "                cur=cur.next\n",
    "            cur.next=new_node\n",
    "            new_node.prev=cur\n",
    "            new_node.next=None\n",
    "    def print_(self):\n",
    "        cur=self.head\n",
    "        while cur:\n",
    "            print(cur.data,end=' ')\n",
    "            cur=cur.next\n",
    "            \n",
    "L=dou()\n",
    "L.append('A')\n",
    "L.append('b')\n",
    "L.append('c')\n",
    "L.print_()            "
   ]
  },
  {
   "cell_type": "code",
   "execution_count": null,
   "metadata": {},
   "outputs": [],
   "source": []
  }
 ],
 "metadata": {
  "kernelspec": {
   "display_name": "python 3.6 (tensorflow)",
   "language": "python",
   "name": "tensorflow"
  },
  "language_info": {
   "codemirror_mode": {
    "name": "ipython",
    "version": 3
   },
   "file_extension": ".py",
   "mimetype": "text/x-python",
   "name": "python",
   "nbconvert_exporter": "python",
   "pygments_lexer": "ipython3",
   "version": "3.6.10"
  }
 },
 "nbformat": 4,
 "nbformat_minor": 4
}
