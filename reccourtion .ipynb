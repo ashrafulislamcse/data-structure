{
 "cells": [
  {
   "cell_type": "code",
   "execution_count": 2,
   "metadata": {},
   "outputs": [],
   "source": [
    "def summ(n):\n",
    "    if n==1:\n",
    "        return 1\n",
    "    else:\n",
    "        return n+summ(n-1)\n",
    "    \n",
    "    "
   ]
  },
  {
   "cell_type": "code",
   "execution_count": 3,
   "metadata": {},
   "outputs": [
    {
     "name": "stdout",
     "output_type": "stream",
     "text": [
      "10\n"
     ]
    }
   ],
   "source": [
    "print(summ(4))"
   ]
  },
  {
   "cell_type": "code",
   "execution_count": 4,
   "metadata": {},
   "outputs": [],
   "source": [
    "a=pow(3,4)"
   ]
  },
  {
   "cell_type": "code",
   "execution_count": 5,
   "metadata": {},
   "outputs": [
    {
     "data": {
      "text/plain": [
       "81"
      ]
     },
     "execution_count": 5,
     "metadata": {},
     "output_type": "execute_result"
    }
   ],
   "source": [
    "a"
   ]
  },
  {
   "cell_type": "code",
   "execution_count": 6,
   "metadata": {},
   "outputs": [],
   "source": [
    "\n",
    "def func(a,b):\n",
    "    if b==0:\n",
    "        return 1\n",
    "    else:\n",
    "        return a*func(a,b-1)\n",
    "        "
   ]
  },
  {
   "cell_type": "code",
   "execution_count": 7,
   "metadata": {},
   "outputs": [
    {
     "data": {
      "text/plain": [
       "81"
      ]
     },
     "execution_count": 7,
     "metadata": {},
     "output_type": "execute_result"
    }
   ],
   "source": [
    "func(3,4)\n"
   ]
  },
  {
   "cell_type": "code",
   "execution_count": 8,
   "metadata": {},
   "outputs": [],
   "source": [
    "def fastfun(a,b):\n",
    "    if b==0:\n",
    "        return 1\n",
    "    elif b%2==0:\n",
    "        return fastfun(a*a,b/2)\n",
    "    return a*fastfun(a,b-1)"
   ]
  },
  {
   "cell_type": "code",
   "execution_count": 9,
   "metadata": {},
   "outputs": [
    {
     "data": {
      "text/plain": [
       "81"
      ]
     },
     "execution_count": 9,
     "metadata": {},
     "output_type": "execute_result"
    }
   ],
   "source": [
    "fastfun(3,4)"
   ]
  },
  {
   "cell_type": "code",
   "execution_count": 10,
   "metadata": {},
   "outputs": [],
   "source": [
    "\n",
    "def allpath(n,m):\n",
    "    if n==1 or m==1:\n",
    "        return 1\n",
    "    else:\n",
    "        return allpath(n,m-1) + allpath(m,n-1)"
   ]
  },
  {
   "cell_type": "code",
   "execution_count": 11,
   "metadata": {},
   "outputs": [
    {
     "data": {
      "text/plain": [
       "20"
      ]
     },
     "execution_count": 11,
     "metadata": {},
     "output_type": "execute_result"
    }
   ],
   "source": [
    "allpath(4,4)"
   ]
  },
  {
   "cell_type": "code",
   "execution_count": 141,
   "metadata": {},
   "outputs": [],
   "source": [
    "def floodfill(a,r,c,tofill,prevfill):\n",
    "    rows=len(a)\n",
    "    cols=len(a[0])\n",
    "    if (r<0 or r>=rows or c<0 or c>=cols):\n",
    "        return\n",
    "    elif(a[r][c]!=prevfill):\n",
    "        return\n",
    "    a[r][c]=tofill\n",
    "    floodfill(a,r-1,c,tofill,prevfill)\n",
    "    floodfill(a,r,c-1,tofill,prevfill)\n",
    "    floodfill(a,r+1,c,tofill,prevfill)\n",
    "    floodfill(a,r,c+1,tofill,prevfill)    "
   ]
  },
  {
   "cell_type": "code",
   "execution_count": 142,
   "metadata": {},
   "outputs": [],
   "source": [
    "a = [[1,1,1,2,1,1,1],[2,2,1,2,2,1,1],[0,2,2,2,1,1,1],[1,1,0,2,1,2,2],[1,1,2,2,1,0,0]]\n"
   ]
  },
  {
   "cell_type": "code",
   "execution_count": 143,
   "metadata": {},
   "outputs": [
    {
     "data": {
      "text/plain": [
       "[[1, 1, 1, 2, 1, 1, 1],\n",
       " [2, 2, 1, 2, 2, 1, 1],\n",
       " [0, 2, 2, 2, 1, 1, 1],\n",
       " [1, 1, 0, 2, 1, 2, 2],\n",
       " [1, 1, 2, 2, 1, 0, 0]]"
      ]
     },
     "execution_count": 143,
     "metadata": {},
     "output_type": "execute_result"
    }
   ],
   "source": [
    "a"
   ]
  },
  {
   "cell_type": "code",
   "execution_count": 144,
   "metadata": {},
   "outputs": [],
   "source": [
    "floodfill(a,2,1,3,2)"
   ]
  },
  {
   "cell_type": "code",
   "execution_count": 145,
   "metadata": {},
   "outputs": [
    {
     "data": {
      "text/plain": [
       "[[1, 1, 1, 3, 1, 1, 1],\n",
       " [3, 3, 1, 3, 3, 1, 1],\n",
       " [0, 3, 3, 3, 1, 1, 1],\n",
       " [1, 1, 0, 3, 1, 2, 2],\n",
       " [1, 1, 3, 3, 1, 0, 0]]"
      ]
     },
     "execution_count": 145,
     "metadata": {},
     "output_type": "execute_result"
    }
   ],
   "source": [
    "a"
   ]
  },
  {
   "cell_type": "code",
   "execution_count": 146,
   "metadata": {},
   "outputs": [],
   "source": [
    "def factorial(num):\n",
    "    if num==0:\n",
    "        return 1\n",
    "    else:\n",
    "        return num*factorial(num-1)"
   ]
  },
  {
   "cell_type": "code",
   "execution_count": 147,
   "metadata": {},
   "outputs": [
    {
     "data": {
      "text/plain": [
       "24"
      ]
     },
     "execution_count": 147,
     "metadata": {},
     "output_type": "execute_result"
    }
   ],
   "source": [
    "factorial(4)"
   ]
  },
  {
   "cell_type": "code",
   "execution_count": 148,
   "metadata": {},
   "outputs": [],
   "source": [
    "def sumnum(num):\n",
    "    if num==1:\n",
    "        return 1\n",
    "    return num+sumnum(num-1)\n",
    "        "
   ]
  },
  {
   "cell_type": "code",
   "execution_count": 149,
   "metadata": {},
   "outputs": [
    {
     "data": {
      "text/plain": [
       "10"
      ]
     },
     "execution_count": 149,
     "metadata": {},
     "output_type": "execute_result"
    }
   ],
   "source": [
    "sumnum(4)"
   ]
  },
  {
   "cell_type": "code",
   "execution_count": 150,
   "metadata": {},
   "outputs": [],
   "source": [
    "#power using recursion\n",
    "def power(a,b):\n",
    "    if b==0:\n",
    "        return 1\n",
    "    return a*power(a,b-1)"
   ]
  },
  {
   "cell_type": "code",
   "execution_count": 151,
   "metadata": {},
   "outputs": [
    {
     "data": {
      "text/plain": [
       "81"
      ]
     },
     "execution_count": 151,
     "metadata": {},
     "output_type": "execute_result"
    }
   ],
   "source": [
    "power(3,4)"
   ]
  },
  {
   "cell_type": "code",
   "execution_count": 152,
   "metadata": {},
   "outputs": [],
   "source": [
    "def fastpower(a,b):\n",
    "    if b==0:\n",
    "        return 1\n",
    "    elif b%2==0:\n",
    "        return fastpower(a*a,b/2)\n",
    "    else:\n",
    "        return a*fastpower(a,b-1)"
   ]
  },
  {
   "cell_type": "code",
   "execution_count": 153,
   "metadata": {},
   "outputs": [
    {
     "data": {
      "text/plain": [
       "1000000"
      ]
     },
     "execution_count": 153,
     "metadata": {},
     "output_type": "execute_result"
    }
   ],
   "source": [
    "fastpower(10,6)"
   ]
  },
  {
   "cell_type": "code",
   "execution_count": 154,
   "metadata": {},
   "outputs": [],
   "source": [
    "#find the all possible path of n*m matrics"
   ]
  },
  {
   "cell_type": "code",
   "execution_count": 155,
   "metadata": {},
   "outputs": [],
   "source": [
    "def nmmatrics(n,m):\n",
    "    if n==1 or m==1:\n",
    "        return 1\n",
    "    else:\n",
    "        return nmmatrics(n,m-1)+nmmatrics(m,n-1)"
   ]
  },
  {
   "cell_type": "code",
   "execution_count": 156,
   "metadata": {},
   "outputs": [
    {
     "data": {
      "text/plain": [
       "20"
      ]
     },
     "execution_count": 156,
     "metadata": {},
     "output_type": "execute_result"
    }
   ],
   "source": [
    "nmmatrics(4,4)"
   ]
  },
  {
   "cell_type": "code",
   "execution_count": 157,
   "metadata": {},
   "outputs": [],
   "source": [
    "def fillflood(a,r,c,tofill,prevfill):\n",
    "    rows=len(a)\n",
    "    cols=len(a[0])\n",
    "    if r<0 or r>=rows or c<0 or c>=cols:\n",
    "        return\n",
    "    elif(a[r][c]!=prevfill):\n",
    "        return\n",
    "    a[r][c]=tofill\n",
    "    fillflood(a,r-1,c,tofill,prevfill)\n",
    "    fillflood(a,r,c-1,tofill,prevfill)\n",
    "    fillflood(a,r+1,c,tofill,prevfill)\n",
    "    fillflood(a,r,c+1,tofill,prevfill)  "
   ]
  },
  {
   "cell_type": "code",
   "execution_count": 158,
   "metadata": {},
   "outputs": [],
   "source": [
    "a = [[1,1,1,2,1,1,1],[2,2,1,2,2,1,1],[0,2,2,2,5,1,1],[1,1,0,2,1,2,2],[1,1,2,2,1,0,0]]"
   ]
  },
  {
   "cell_type": "code",
   "execution_count": 159,
   "metadata": {},
   "outputs": [
    {
     "data": {
      "text/plain": [
       "[[1, 1, 1, 2, 1, 1, 1],\n",
       " [2, 2, 1, 2, 2, 1, 1],\n",
       " [0, 2, 2, 2, 5, 1, 1],\n",
       " [1, 1, 0, 2, 1, 2, 2],\n",
       " [1, 1, 2, 2, 1, 0, 0]]"
      ]
     },
     "execution_count": 159,
     "metadata": {},
     "output_type": "execute_result"
    }
   ],
   "source": [
    "a\n"
   ]
  },
  {
   "cell_type": "code",
   "execution_count": 160,
   "metadata": {},
   "outputs": [
    {
     "name": "stdout",
     "output_type": "stream",
     "text": [
      "[[1, 1, 1, 3, 1, 1, 1], [3, 3, 1, 3, 3, 1, 1], [0, 3, 3, 3, 5, 1, 1], [1, 1, 0, 3, 1, 2, 2], [1, 1, 3, 3, 1, 0, 0]]\n"
     ]
    }
   ],
   "source": [
    "fillflood(a,2,3,3,2)\n",
    "print(a)"
   ]
  },
  {
   "cell_type": "code",
   "execution_count": 170,
   "metadata": {},
   "outputs": [],
   "source": [
    "def floodfikl(a,r,c,tofill,prevfill):\n",
    "    row=len(a)\n",
    "    col=len(a[0])\n",
    "    if (r<0 or r>=row or c<0 or c>=col):\n",
    "        return\n",
    "    \n",
    "    if a[r][c]!=prevfill:\n",
    "        return\n",
    "    a[r][c]=tofill\n",
    "    floodfikl(a,r-1,c,tofill,prevfill)\n",
    "    floodfikl(a,r,c-1,tofill,prevfill)\n",
    "    floodfikl(a,r+1,c,tofill,prevfill)\n",
    "    floodfikl(a,r,c+1,tofill,prevfill)\n",
    "\n",
    "    \n",
    "    \n",
    "    "
   ]
  },
  {
   "cell_type": "code",
   "execution_count": 171,
   "metadata": {},
   "outputs": [],
   "source": [
    "b=[[1, 1, 1, 3, 1, 1, 1], [3, 3, 1, 3, 3, 1, 1], [0, 3, 3, 3, 5, 1, 1], [1, 1, 0, 3, 1, 2, 2], [1, 1, 3, 3, 1, 0, 0]]"
   ]
  },
  {
   "cell_type": "code",
   "execution_count": 172,
   "metadata": {},
   "outputs": [
    {
     "data": {
      "text/plain": [
       "[[1, 1, 1, 3, 1, 1, 1],\n",
       " [3, 3, 1, 3, 3, 1, 1],\n",
       " [0, 3, 3, 3, 5, 1, 1],\n",
       " [1, 1, 0, 3, 1, 2, 2],\n",
       " [1, 1, 3, 3, 1, 0, 0]]"
      ]
     },
     "execution_count": 172,
     "metadata": {},
     "output_type": "execute_result"
    }
   ],
   "source": [
    "b"
   ]
  },
  {
   "cell_type": "code",
   "execution_count": 173,
   "metadata": {},
   "outputs": [],
   "source": [
    "floodfikl(b,2,1,2,3)"
   ]
  },
  {
   "cell_type": "code",
   "execution_count": 174,
   "metadata": {},
   "outputs": [
    {
     "data": {
      "text/plain": [
       "[[1, 1, 1, 2, 1, 1, 1],\n",
       " [2, 2, 1, 2, 2, 1, 1],\n",
       " [0, 2, 2, 2, 5, 1, 1],\n",
       " [1, 1, 0, 2, 1, 2, 2],\n",
       " [1, 1, 2, 2, 1, 0, 0]]"
      ]
     },
     "execution_count": 174,
     "metadata": {},
     "output_type": "execute_result"
    }
   ],
   "source": [
    "b"
   ]
  },
  {
   "cell_type": "code",
   "execution_count": 11,
   "metadata": {},
   "outputs": [
    {
     "name": "stdout",
     "output_type": "stream",
     "text": [
      "True\n"
     ]
    }
   ],
   "source": [
    "  \n",
    "def issubstring (str1, str2):\n",
    "    size1=len(str1)\n",
    "    size2=len(str2)\n",
    "    if(size1==0):\n",
    "        return False\n",
    "    if(size2==0):\n",
    "        return True\n",
    "    if(str1[0]==str2[0]):\n",
    "        return ExactSame(str1,str2)\n",
    "    return issubstring(str1[1:],str2)\n",
    "\n",
    "def ExactSame(str1,str2):\n",
    "    size1 = len(str1)\n",
    "    size2 = len(str2)\n",
    "    if (size1 == 0):\n",
    "        return False\n",
    "    if (size2 == 0):\n",
    "        return True\n",
    "    if(str1[0]==str2[0]):\n",
    "        return ExactSame(str1[1:],str2[1:])\n",
    "    return False\n",
    "\n",
    "str1=\"NETSETOS\"\n",
    "str2=\"SET\"\n",
    "p=issubstring(str1,str2)\n",
    "print(p)"
   ]
  },
  {
   "cell_type": "code",
   "execution_count": 13,
   "metadata": {},
   "outputs": [
    {
     "name": "stdout",
     "output_type": "stream",
     "text": [
      "EXCELLENT IS NETSETOS\n"
     ]
    }
   ],
   "source": [
    "def reverse(str_r):\n",
    "    str_r=str_r[::-1]\n",
    "    return str_r\n",
    "\n",
    "\n",
    "\n",
    "def reverse_words(str_r):\n",
    "    n=len(str_r)\n",
    "    if(n==1):\n",
    "        return str_r\n",
    "    str2=str_r.split(\" \")\n",
    "    size=len(str2)\n",
    "    rev_all=\"\"\n",
    "    for i in range(size):\n",
    "        rev=reverse(str2[i])\n",
    "        rev_all=rev_all+rev+\" \"\n",
    "    d=reverse(rev_all)\n",
    "    return d.strip()\n",
    "\n",
    "\n",
    "\n",
    "\n",
    "\n",
    "\n",
    "\n",
    "\n",
    "\n",
    "\n",
    "\n",
    "\n",
    "str_r=\"NETSETOS IS EXCELLENT\"\n",
    "print(reverse_words(str_r))\n"
   ]
  },
  {
   "cell_type": "code",
   "execution_count": 14,
   "metadata": {},
   "outputs": [
    {
     "name": "stdout",
     "output_type": "stream",
     "text": [
      "('O', 6)\n"
     ]
    }
   ],
   "source": [
    "def first_non_repeating(str_r):\n",
    "    dict={}\n",
    "    size=len(str_r)\n",
    "    for i in range(size):\n",
    "        key=str_r[i]\n",
    "        if key not in dict:\n",
    "            dict[key]=1\n",
    "        else:\n",
    "            dict[key]=dict[key]+1\n",
    "    counter=0\n",
    "    for index in range(len(str_r)):\n",
    "        if(dict[str_r[index]]==1):\n",
    "            return str_r[index],index\n",
    "        counter=counter+1\n",
    "\n",
    "\n",
    "\n",
    "\n",
    "\n",
    "\n",
    "\n",
    "\n",
    "\n",
    "\n",
    "    # for key,value in dict.items():\n",
    "    #     if(value==1):\n",
    "    #         print(key,value)\n",
    "    #         break\n",
    "\n",
    "\n",
    "print(first_non_repeating(\"NETSETOSNETM\"))\n"
   ]
  },
  {
   "cell_type": "code",
   "execution_count": 15,
   "metadata": {},
   "outputs": [
    {
     "name": "stdout",
     "output_type": "stream",
     "text": [
      "ANU is not matching with NUR\n"
     ]
    }
   ],
   "source": [
    "def leftRotatedString(name):\n",
    "    size = len(name)\n",
    "\n",
    "    temp = name + name\n",
    "\n",
    "    for i in range(size):\n",
    "        for j in range(size):\n",
    "            print(temp[i + j], end=\"\")\n",
    "        print()\n",
    "\n",
    "\n",
    "string=\"NETSET\"\n",
    "# leftRotatedString(string)\n",
    "\n",
    "def checkrotation(str1,str2):\n",
    "    if(len(str1)!=len(str2)):\n",
    "        return False\n",
    "    size=len(str1)\n",
    "    s=str1+str1\n",
    "    if(str2 in s):\n",
    "        print(str1,\"is matching with\",str2)\n",
    "    else:\n",
    "        print(str1, \"is not matching with\", str2)\n",
    "\n",
    "checkrotation(\"ANU\",\"NUR\")\n"
   ]
  },
  {
   "cell_type": "code",
   "execution_count": null,
   "metadata": {},
   "outputs": [],
   "source": []
  }
 ],
 "metadata": {
  "kernelspec": {
   "display_name": "Python 3",
   "language": "python",
   "name": "python3"
  },
  "language_info": {
   "codemirror_mode": {
    "name": "ipython",
    "version": 3
   },
   "file_extension": ".py",
   "mimetype": "text/x-python",
   "name": "python",
   "nbconvert_exporter": "python",
   "pygments_lexer": "ipython3",
   "version": "3.6.10"
  }
 },
 "nbformat": 4,
 "nbformat_minor": 4
}
